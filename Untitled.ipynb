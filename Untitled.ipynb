{
 "cells": [
  {
   "cell_type": "code",
   "execution_count": 5,
   "id": "42286575",
   "metadata": {},
   "outputs": [],
   "source": [
    "import sys\n",
    "from Database import DBhelper\n",
    "\n",
    "class Flipkart:\n",
    "    def __int__(self):\n",
    "        self.db = DBhelper()                       # Connected Database\n",
    "\n",
    "        self.menu()\n",
    "\n",
    "\n",
    "    def menu(self):\n",
    "        user = input(\"\"\"\n",
    "        1. Enter 1 to Register\n",
    "        2. Enter 2 to Login\n",
    "        3. Anythings else to leave\n",
    "        \"\"\")\n",
    "\n",
    "        if user == '1':\n",
    "            self.register()\n",
    "        elif user == '2':\n",
    "            self.login()\n",
    "        else:\n",
    "            sys.exit(1000)\n",
    "\n",
    "    def register(self):\n",
    "        pass\n",
    "\n",
    "    def login(self):\n",
    "        pass\n",
    "\n",
    "\n",
    "shop = Flipkart()"
   ]
  },
  {
   "cell_type": "code",
   "execution_count": null,
   "id": "b234a696",
   "metadata": {},
   "outputs": [],
   "source": [
    "shop.menu()\n"
   ]
  },
  {
   "cell_type": "code",
   "execution_count": null,
   "id": "33a62735",
   "metadata": {},
   "outputs": [],
   "source": []
  }
 ],
 "metadata": {
  "kernelspec": {
   "display_name": "Python 3 (ipykernel)",
   "language": "python",
   "name": "python3"
  },
  "language_info": {
   "codemirror_mode": {
    "name": "ipython",
    "version": 3
   },
   "file_extension": ".py",
   "mimetype": "text/x-python",
   "name": "python",
   "nbconvert_exporter": "python",
   "pygments_lexer": "ipython3",
   "version": "3.11.2"
  }
 },
 "nbformat": 4,
 "nbformat_minor": 5
}
